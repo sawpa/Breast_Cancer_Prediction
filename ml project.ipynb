{
 "cells": [
  {
   "cell_type": "markdown",
   "id": "dcdab56b",
   "metadata": {},
   "source": [
    "# Importing Libraries"
   ]
  },
  {
   "cell_type": "code",
   "execution_count": null,
   "id": "97319b7b",
   "metadata": {},
   "outputs": [],
   "source": [
    "import pandas as pd\n",
    "import numpy as np\n",
    "import seaborn as sns\n",
    "import matplotlib.pyplot as plt\n",
    "from sklearn.preprocessing import LabelEncoder\n",
    "from sklearn.model_selection import train_test_split \n",
    "from sklearn.linear_model import LogisticRegression\n",
    "from sklearn.preprocessing import StandardScaler\n",
    "from sklearn.metrics import confusion_matrix\n",
    "from sklearn.metrics import accuracy_score\n",
    "from sklearn.neighbors import KNeighborsClassifier\n",
    "from sklearn.tree import DecisionTreeClassifier\n",
    "from sklearn.ensemble import RandomForestClassifier"
   ]
  },
  {
   "cell_type": "markdown",
   "id": "ab50e8b4",
   "metadata": {},
   "source": [
    "The first two columns in the dataset store the unique ID numbers of the samples and the corresponding diagnosis (M=malignant, B=benign), respectively.\n",
    "\n",
    "The columns 3-32 contain 30 real-value features that have been computed from digitized images of the cell nuclei, which can be used to build a model to predict whether a tumor is benign or malignant.\n",
    "\n",
    "     1= Malignant (Cancerous) - Present (M)\n",
    "     0= Benign (Not Cancerous) -Absent (B)\n",
    "Ten real-valued features are computed for each cell nucleus:\n",
    "1)radius (mean of distances from center to points on the perimeter)\n",
    "2)texture (standard deviation of gray-scale values)\n",
    "3)perimeter\n",
    "4)area\n",
    "5)smoothness (local variation in radius lengths)\n",
    "6)compactness (perimeter^2 / area - 1.0)\n",
    "7)concavity (severity of concave portions of the contour)\n",
    "8)concave points (number of concave portions of the contour)\n",
    "9)symmetry\n",
    "10)fractal dimension (\"coastline approximation\" - 1)\n",
    "The mean, standard error and \"worst\" or largest (mean of the three largest values) of these features were computed for each image, resulting in 30 features. For instance, field 3 is Mean Radius, field 13 is Radius SE, field 23 is Worst Radius."
   ]
  },
  {
   "cell_type": "markdown",
   "id": "c127fe69",
   "metadata": {},
   "source": [
    "# Importing the Data"
   ]
  },
  {
   "cell_type": "code",
   "execution_count": null,
   "id": "9d9faac9",
   "metadata": {},
   "outputs": [],
   "source": [
    "df = pd.read_csv(\" Breast Cancer Wisconsin (Diagnostic) Data Set.csv\")\n",
    "df"
   ]
  },
  {
   "cell_type": "code",
   "execution_count": null,
   "id": "7556522b",
   "metadata": {},
   "outputs": [],
   "source": [
    "df.head()"
   ]
  },
  {
   "cell_type": "markdown",
   "id": "96a94157",
   "metadata": {},
   "source": [
    "#The last column named \"Unaname: 32\" seems like an erronous column in our dataset. We might probably just drop it.\n",
    "#Most of the columns seem to have a numeric entry. This would save our time from mapping the variables.\n",
    "#The ID column would not help us contributing to predict about the cancer. We might as well drop it."
   ]
  },
  {
   "cell_type": "code",
   "execution_count": null,
   "id": "8f2d8863",
   "metadata": {},
   "outputs": [],
   "source": [
    "##renaming the column names"
   ]
  },
  {
   "cell_type": "code",
   "execution_count": null,
   "id": "18801c82",
   "metadata": {},
   "outputs": [],
   "source": [
    "df.rename(columns = {\"concave points_mean\":\"concave_points_mean\",\"concave points_se\":\"concave_points_se\",\"concave points_worst\":\"concave_points_worst\"},inplace = True)"
   ]
  },
  {
   "cell_type": "code",
   "execution_count": null,
   "id": "52d7b8cd",
   "metadata": {},
   "outputs": [],
   "source": [
    "##checking for null values in columns"
   ]
  },
  {
   "cell_type": "code",
   "execution_count": null,
   "id": "33b35b4c",
   "metadata": {},
   "outputs": [],
   "source": [
    "df.isnull().sum()"
   ]
  },
  {
   "cell_type": "code",
   "execution_count": null,
   "id": "94fc98fd",
   "metadata": {},
   "outputs": [],
   "source": [
    "df.shape"
   ]
  },
  {
   "cell_type": "code",
   "execution_count": null,
   "id": "0724e635",
   "metadata": {},
   "outputs": [],
   "source": [
    "df.describe()"
   ]
  },
  {
   "cell_type": "code",
   "execution_count": null,
   "id": "63dbfa57",
   "metadata": {},
   "outputs": [],
   "source": [
    "##removing the null column and unwanted column"
   ]
  },
  {
   "cell_type": "code",
   "execution_count": null,
   "id": "8670b46d",
   "metadata": {},
   "outputs": [],
   "source": [
    "df.drop(\"Unnamed: 32\",axis=1,inplace=True)\n",
    "df.drop(\"id\",axis = 1, inplace = True)"
   ]
  },
  {
   "cell_type": "markdown",
   "id": "5efd35b8",
   "metadata": {},
   "source": [
    "#After dropping the two columns, we are now left with 31 columns"
   ]
  },
  {
   "cell_type": "code",
   "execution_count": null,
   "id": "7b5911f6",
   "metadata": {},
   "outputs": [],
   "source": [
    "##using label encoder to encode the \"diagnosis\" column"
   ]
  },
  {
   "cell_type": "code",
   "execution_count": null,
   "id": "7f3cab26",
   "metadata": {},
   "outputs": [],
   "source": [
    "label_encoder = LabelEncoder()"
   ]
  },
  {
   "cell_type": "code",
   "execution_count": null,
   "id": "2df057af",
   "metadata": {},
   "outputs": [],
   "source": [
    "df[\"diagnosis\"] = label_encoder.fit_transform(df[\"diagnosis\"])"
   ]
  },
  {
   "cell_type": "code",
   "execution_count": null,
   "id": "4562ecd1",
   "metadata": {},
   "outputs": [],
   "source": [
    "df"
   ]
  },
  {
   "cell_type": "markdown",
   "id": "71be4b81",
   "metadata": {},
   "source": [
    "#In order to conduct our analysis easily, we have converted the target column as:\n",
    "#Malignant - 1\n",
    "#Benignant - 0"
   ]
  },
  {
   "cell_type": "code",
   "execution_count": null,
   "id": "36fe24df",
   "metadata": {},
   "outputs": [],
   "source": [
    "df.diagnosis.value_counts()"
   ]
  },
  {
   "cell_type": "code",
   "execution_count": null,
   "id": "25e843aa",
   "metadata": {},
   "outputs": [],
   "source": [
    "sns.countplot(df['diagnosis'], label = 'count')"
   ]
  },
  {
   "cell_type": "code",
   "execution_count": null,
   "id": "953d3039",
   "metadata": {},
   "outputs": [],
   "source": [
    "df.plot(kind='density', subplots=True, layout=(5,7), sharex=False, legend=False, fontsize=1)\n",
    "plt.show()"
   ]
  },
  {
   "cell_type": "markdown",
   "id": "b7561bd9",
   "metadata": {},
   "source": [
    "#we can see that there is a guassian distribution"
   ]
  },
  {
   "cell_type": "code",
   "execution_count": null,
   "id": "66d3e131",
   "metadata": {},
   "outputs": [],
   "source": [
    "plt.figure(figsize=(18,18))\n",
    "sns.heatmap(df.corr(),annot = True,fmt = '.0%')"
   ]
  },
  {
   "cell_type": "code",
   "execution_count": null,
   "id": "f607a7c5",
   "metadata": {},
   "outputs": [],
   "source": [
    "corr = df.corr()\n",
    "corr[abs(corr['diagnosis']) > 0.59].index"
   ]
  },
  {
   "cell_type": "markdown",
   "id": "39dc3d79",
   "metadata": {},
   "source": [
    "#The above columns are the one's that show the greatest correlation with our diagnosis column."
   ]
  },
  {
   "cell_type": "code",
   "execution_count": null,
   "id": "52054fd7",
   "metadata": {},
   "outputs": [],
   "source": [
    "df.drop('diagnosis', axis=1).corrwith(df.diagnosis).plot(kind='bar', grid=True, figsize=(12, 10), title=\"Correlation with target\",color=\"green\");"
   ]
  },
  {
   "cell_type": "markdown",
   "id": "670c3acb",
   "metadata": {},
   "source": [
    "#There are only a handful of columns that show negative correlation with the 'diagnosis column'\n",
    "#Around half of our columns are more than 50% positively correlated to diagnosis column.\n",
    "#We have to select which of the attributes we want to use in building our model!"
   ]
  },
  {
   "cell_type": "code",
   "execution_count": null,
   "id": "da67057b",
   "metadata": {},
   "outputs": [],
   "source": [
    "corr_matrix = df.corr()\n",
    "threshold = 0.60 \n",
    "filtre = np.abs(corr_matrix[\"diagnosis\"]) > threshold\n",
    "corr_features = corr_matrix.columns[filtre].tolist()\n",
    "sns.clustermap(df[corr_features].corr(), annot = True, cmap=\"YlGnBu\")\n",
    "plt.title(\"Correlation Between Features w Corr Theshold 0.60\", fontweight = \"bold\", fontsize=16)\n",
    "plt.show()"
   ]
  },
  {
   "cell_type": "markdown",
   "id": "9f25612c",
   "metadata": {},
   "source": [
    "# Splitting The Data"
   ]
  },
  {
   "cell_type": "code",
   "execution_count": null,
   "id": "745aea0c",
   "metadata": {},
   "outputs": [],
   "source": [
    "X = df.drop(columns =[\"diagnosis\"])\n",
    "X"
   ]
  },
  {
   "cell_type": "code",
   "execution_count": null,
   "id": "7ba071b1",
   "metadata": {},
   "outputs": [],
   "source": [
    "y = df.iloc[:,:1]\n",
    "y"
   ]
  },
  {
   "cell_type": "markdown",
   "id": "f9637d85",
   "metadata": {},
   "source": [
    "# Feature Selection"
   ]
  },
  {
   "cell_type": "code",
   "execution_count": null,
   "id": "d3f40452",
   "metadata": {},
   "outputs": [],
   "source": [
    "from sklearn.ensemble import ExtraTreesClassifier"
   ]
  },
  {
   "cell_type": "code",
   "execution_count": null,
   "id": "235e5c6a",
   "metadata": {},
   "outputs": [],
   "source": [
    "select = ExtraTreesClassifier(random_state = 42)\n",
    "select.fit(X,y)\n",
    " \n",
    "imp_feature = select.feature_importances_\n",
    "\n",
    "for index,val in enumerate(imp_feature):\n",
    "    print(index,round(val*100,2))\n",
    "    \n",
    "print(X.info())"
   ]
  },
  {
   "cell_type": "markdown",
   "id": "f6d9fae7",
   "metadata": {},
   "source": [
    "#I have used ExtraTreesClassifier to select k-best features and selected the 8 best features as below."
   ]
  },
  {
   "cell_type": "code",
   "execution_count": null,
   "id": "a9ba7a6a",
   "metadata": {},
   "outputs": [],
   "source": [
    "prediction_features =[\"radius_worst\",\"perimeter_worst\",\"concave_points_worst\",\"area_worst\",\"concave_points_mean\",\"radius_mean\",\"concavity_mean\",\"area_mean\"] \n",
    "x=df[prediction_features]\n",
    "x"
   ]
  },
  {
   "cell_type": "markdown",
   "id": "26bcd071",
   "metadata": {},
   "source": [
    "# Scaling the data"
   ]
  },
  {
   "cell_type": "code",
   "execution_count": null,
   "id": "a36525b6",
   "metadata": {},
   "outputs": [],
   "source": [
    "sc = StandardScaler()\n",
    "x_scaled = sc.fit_transform(x)"
   ]
  },
  {
   "cell_type": "code",
   "execution_count": null,
   "id": "9cb19a55",
   "metadata": {},
   "outputs": [],
   "source": [
    "x_scaled"
   ]
  },
  {
   "cell_type": "markdown",
   "id": "52f02ea4",
   "metadata": {},
   "source": [
    "#Converting the scaled data into dataframe"
   ]
  },
  {
   "cell_type": "code",
   "execution_count": null,
   "id": "e8e78032",
   "metadata": {},
   "outputs": [],
   "source": [
    "x_t = pd.DataFrame(data = x_scaled, columns = x.columns)\n",
    "x_t"
   ]
  },
  {
   "cell_type": "code",
   "execution_count": null,
   "id": "580a30d7",
   "metadata": {},
   "outputs": [],
   "source": [
    "x_t.describe()"
   ]
  },
  {
   "cell_type": "markdown",
   "id": "1a206932",
   "metadata": {},
   "source": [
    "# Train_Test_Split"
   ]
  },
  {
   "cell_type": "code",
   "execution_count": null,
   "id": "7033df5a",
   "metadata": {},
   "outputs": [],
   "source": [
    "x_train,x_test,y_train,y_test = train_test_split(x_t,y,test_size = 0.3 ,random_state =2)"
   ]
  },
  {
   "cell_type": "code",
   "execution_count": null,
   "id": "8e56b421",
   "metadata": {},
   "outputs": [],
   "source": [
    "x_test"
   ]
  },
  {
   "cell_type": "markdown",
   "id": "2c9ccbe1",
   "metadata": {},
   "source": [
    "# Model Fitting"
   ]
  },
  {
   "cell_type": "markdown",
   "id": "625aaf51",
   "metadata": {},
   "source": [
    "# Logistic Regression"
   ]
  },
  {
   "cell_type": "code",
   "execution_count": null,
   "id": "1f2ff0f7",
   "metadata": {},
   "outputs": [],
   "source": [
    "LR = LogisticRegression()"
   ]
  },
  {
   "cell_type": "code",
   "execution_count": null,
   "id": "ba25f3f4",
   "metadata": {},
   "outputs": [],
   "source": [
    "p=LR.fit(x_train,y_train)\n",
    "p"
   ]
  },
  {
   "cell_type": "code",
   "execution_count": null,
   "id": "4c56511d",
   "metadata": {
    "scrolled": true
   },
   "outputs": [],
   "source": [
    "y_pred = LR.predict(x_test)\n",
    "y_pred"
   ]
  },
  {
   "cell_type": "code",
   "execution_count": null,
   "id": "d4d93d01",
   "metadata": {},
   "outputs": [],
   "source": [
    "cm = confusion_matrix(y_test,y_pred)\n",
    "print(cm)"
   ]
  },
  {
   "cell_type": "code",
   "execution_count": null,
   "id": "8eb12001",
   "metadata": {},
   "outputs": [],
   "source": [
    "LR_acc =accuracy_score(y_test,y_pred)\n",
    "print(LR_acc)"
   ]
  },
  {
   "cell_type": "markdown",
   "id": "8cb7a480",
   "metadata": {},
   "source": [
    "# KNeighborsClassifier"
   ]
  },
  {
   "cell_type": "code",
   "execution_count": null,
   "id": "1fa445f0",
   "metadata": {},
   "outputs": [],
   "source": [
    "knn = KNeighborsClassifier(n_neighbors = 2, weights ='uniform')"
   ]
  },
  {
   "cell_type": "code",
   "execution_count": null,
   "id": "459cd854",
   "metadata": {},
   "outputs": [],
   "source": [
    "knn.fit(x_train, y_train)"
   ]
  },
  {
   "cell_type": "code",
   "execution_count": null,
   "id": "a164adc3",
   "metadata": {},
   "outputs": [],
   "source": [
    "y_pred = knn.predict(x_test)"
   ]
  },
  {
   "cell_type": "code",
   "execution_count": null,
   "id": "21805784",
   "metadata": {},
   "outputs": [],
   "source": [
    "knn_acc=accuracy_score(y_test,y_pred)\n",
    "print(knn_acc)"
   ]
  },
  {
   "cell_type": "code",
   "execution_count": null,
   "id": "70abe3ae",
   "metadata": {},
   "outputs": [],
   "source": [
    "cm = confusion_matrix(y_test,y_pred)\n",
    "print(cm)"
   ]
  },
  {
   "cell_type": "markdown",
   "id": "2970e968",
   "metadata": {},
   "source": [
    "# Decision Tree classifer"
   ]
  },
  {
   "cell_type": "code",
   "execution_count": null,
   "id": "a7da20b4",
   "metadata": {},
   "outputs": [],
   "source": [
    "# Create Decision Tree classifer object\n",
    "clf = DecisionTreeClassifier(random_state=10)"
   ]
  },
  {
   "cell_type": "code",
   "execution_count": null,
   "id": "ec7ea02e",
   "metadata": {},
   "outputs": [],
   "source": [
    "clf = clf.fit(x_train,y_train)"
   ]
  },
  {
   "cell_type": "code",
   "execution_count": null,
   "id": "afc8a048",
   "metadata": {},
   "outputs": [],
   "source": [
    "y_pred = clf.predict(x_test)"
   ]
  },
  {
   "cell_type": "code",
   "execution_count": null,
   "id": "18297e85",
   "metadata": {},
   "outputs": [],
   "source": [
    "clf_acc=accuracy_score(y_test,y_pred)\n",
    "print(clf_acc)"
   ]
  },
  {
   "cell_type": "code",
   "execution_count": null,
   "id": "23fa3bc5",
   "metadata": {},
   "outputs": [],
   "source": [
    "cm = confusion_matrix(y_test,y_pred)\n",
    "print(cm)"
   ]
  },
  {
   "cell_type": "markdown",
   "id": "c0df3db3",
   "metadata": {},
   "source": [
    "# Random Forest"
   ]
  },
  {
   "cell_type": "code",
   "execution_count": null,
   "id": "fb5ae897",
   "metadata": {},
   "outputs": [],
   "source": [
    "rf = RandomForestClassifier(n_estimators=60, random_state=0)\n",
    "# Train the model on training data\n",
    "rf.fit(x_train,y_train)\n",
    "y_pred = rf.predict(x_test)"
   ]
  },
  {
   "cell_type": "code",
   "execution_count": null,
   "id": "c55991d6",
   "metadata": {},
   "outputs": [],
   "source": [
    "rf_acc=accuracy_score(y_test,y_pred)\n",
    "print(rf_acc)"
   ]
  },
  {
   "cell_type": "code",
   "execution_count": null,
   "id": "f63624fb",
   "metadata": {},
   "outputs": [],
   "source": [
    "cm = confusion_matrix(y_test,y_pred)\n",
    "print(cm)"
   ]
  },
  {
   "cell_type": "markdown",
   "id": "dbeafbf6",
   "metadata": {},
   "source": [
    "# Accuracies of Models"
   ]
  },
  {
   "cell_type": "code",
   "execution_count": null,
   "id": "28e780af",
   "metadata": {
    "scrolled": true
   },
   "outputs": [],
   "source": [
    "print(LR_acc)\n",
    "print(knn_acc)\n",
    "print(clf_acc)\n",
    "print(rf_acc)"
   ]
  },
  {
   "cell_type": "code",
   "execution_count": null,
   "id": "7c8c348d",
   "metadata": {},
   "outputs": [],
   "source": [
    "plt.figure(figsize=(10,5))\n",
    "model_acc = [LR_acc, knn_acc,clf_acc, rf_acc]\n",
    "model_name = ['LogisticRegression', 'KNeighbors Classifier','Decision Tree classifer', 'Random Forest']\n",
    "sns.barplot(x= model_acc, y=model_name, palette='magma')"
   ]
  },
  {
   "cell_type": "markdown",
   "id": "0171687e",
   "metadata": {},
   "source": [
    "#We can clearly see that all our models perform with more than 90% accuracy\n",
    " where DecisionTreeClassifier has the lowest of 91.22% and LogisticRegression has the highest of 95.32% accuracy."
   ]
  },
  {
   "cell_type": "markdown",
   "id": "1a0ca5fe",
   "metadata": {},
   "source": [
    "# Pickling files"
   ]
  },
  {
   "cell_type": "code",
   "execution_count": null,
   "id": "386dd79e",
   "metadata": {},
   "outputs": [],
   "source": [
    "import pickle"
   ]
  },
  {
   "cell_type": "code",
   "execution_count": null,
   "id": "c0ae7aa8",
   "metadata": {},
   "outputs": [],
   "source": [
    "pickle.dump(p, open('model.pkl', 'wb'))"
   ]
  },
  {
   "cell_type": "code",
   "execution_count": null,
   "id": "e1e9c25a",
   "metadata": {},
   "outputs": [],
   "source": [
    "my_dict = pickle.load(open('./model.pkl', 'rb'))\n",
    "my_dict"
   ]
  }
 ],
 "metadata": {
  "kernelspec": {
   "display_name": "Python 3 (ipykernel)",
   "language": "python",
   "name": "python3"
  },
  "language_info": {
   "codemirror_mode": {
    "name": "ipython",
    "version": 3
   },
   "file_extension": ".py",
   "mimetype": "text/x-python",
   "name": "python",
   "nbconvert_exporter": "python",
   "pygments_lexer": "ipython3",
   "version": "3.9.7"
  }
 },
 "nbformat": 4,
 "nbformat_minor": 5
}
